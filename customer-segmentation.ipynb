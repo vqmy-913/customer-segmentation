{
 "cells": [
  {
   "cell_type": "markdown",
   "metadata": {},
   "source": [
    "# Customer Segmentation\n",
    "*A virtual retail analytics internship experience.*\n",
    "\n",
    "### Summary\n",
    "TBC\n",
    "\n",
    "### Technical details\n",
    "Programming language: Python"
   ]
  },
  {
   "cell_type": "markdown",
   "metadata": {},
   "source": [
    "### Requirements and Importing data"
   ]
  },
  {
   "cell_type": "code",
   "execution_count": 67,
   "metadata": {},
   "outputs": [
    {
     "name": "stdout",
     "output_type": "stream",
     "text": [
      "Requirement already satisfied: pyarrow in /Users/mynguyen/anaconda3/lib/python3.10/site-packages (15.0.0)\n",
      "Requirement already satisfied: numpy<2,>=1.16.6 in /Users/mynguyen/anaconda3/lib/python3.10/site-packages (from pyarrow) (1.23.5)\n",
      "Note: you may need to restart the kernel to use updated packages.\n"
     ]
    }
   ],
   "source": [
    "%pip install pyarrow"
   ]
  },
  {
   "cell_type": "code",
   "execution_count": 68,
   "metadata": {},
   "outputs": [],
   "source": [
    "import pandas as pd\n",
    "import pyarrow\n",
    "import csv\n",
    "import numpy as np\n",
    "import matplotlib.pyplot as plt\n",
    "import seaborn as sns"
   ]
  },
  {
   "cell_type": "code",
   "execution_count": 69,
   "metadata": {},
   "outputs": [],
   "source": [
    "# # read data, then convert and write to feather\n",
    "# purchases = pd.read_csv(\"data/QVI_purchase_behaviour.csv\")\n",
    "# transactions = pd.read_excel(\"data/QVI_transaction_data.xlsx\", converters={\"PROD_NAME\": str})\n",
    "# transactions = transactions.reset_index(drop=True)\n",
    "\n",
    "# purchases.to_feather(\"data/purchases.feather\")\n",
    "# transactions.to_feather(\"data/transactions.feather\")"
   ]
  },
  {
   "cell_type": "code",
   "execution_count": 70,
   "metadata": {},
   "outputs": [],
   "source": [
    "purchases = pd.read_feather(\"data/purchases.feather\")\n",
    "transactions = pd.read_feather(\"data/transactions.feather\")"
   ]
  },
  {
   "cell_type": "markdown",
   "metadata": {},
   "source": [
    "### Task 1: Examine and Clean Transaction data\n",
    "* Look for inconsistencies, missing data across the data set\n",
    "* Identify outliers\n",
    "* Correctly identified category items, numeric data across all tables\n",
    "* Handle anomalies by making necessary changes in the dataset and save it"
   ]
  },
  {
   "cell_type": "markdown",
   "metadata": {},
   "source": [
    "##### View"
   ]
  },
  {
   "cell_type": "code",
   "execution_count": 71,
   "metadata": {},
   "outputs": [
    {
     "name": "stdout",
     "output_type": "stream",
     "text": [
      "Shape of transactions data: (264836, 8)\n"
     ]
    },
    {
     "data": {
      "text/html": [
       "<div>\n",
       "<style scoped>\n",
       "    .dataframe tbody tr th:only-of-type {\n",
       "        vertical-align: middle;\n",
       "    }\n",
       "\n",
       "    .dataframe tbody tr th {\n",
       "        vertical-align: top;\n",
       "    }\n",
       "\n",
       "    .dataframe thead th {\n",
       "        text-align: right;\n",
       "    }\n",
       "</style>\n",
       "<table border=\"1\" class=\"dataframe\">\n",
       "  <thead>\n",
       "    <tr style=\"text-align: right;\">\n",
       "      <th></th>\n",
       "      <th>DATE</th>\n",
       "      <th>STORE_NBR</th>\n",
       "      <th>LYLTY_CARD_NBR</th>\n",
       "      <th>TXN_ID</th>\n",
       "      <th>PROD_NBR</th>\n",
       "      <th>PROD_NAME</th>\n",
       "      <th>PROD_QTY</th>\n",
       "      <th>TOT_SALES</th>\n",
       "    </tr>\n",
       "  </thead>\n",
       "  <tbody>\n",
       "    <tr>\n",
       "      <th>0</th>\n",
       "      <td>2018-10-17</td>\n",
       "      <td>1</td>\n",
       "      <td>1000</td>\n",
       "      <td>1</td>\n",
       "      <td>5</td>\n",
       "      <td>Natural Chip        Compny SeaSalt175g</td>\n",
       "      <td>2</td>\n",
       "      <td>6.0</td>\n",
       "    </tr>\n",
       "    <tr>\n",
       "      <th>1</th>\n",
       "      <td>2019-05-14</td>\n",
       "      <td>1</td>\n",
       "      <td>1307</td>\n",
       "      <td>348</td>\n",
       "      <td>66</td>\n",
       "      <td>CCs Nacho Cheese    175g</td>\n",
       "      <td>3</td>\n",
       "      <td>6.3</td>\n",
       "    </tr>\n",
       "    <tr>\n",
       "      <th>2</th>\n",
       "      <td>2019-05-20</td>\n",
       "      <td>1</td>\n",
       "      <td>1343</td>\n",
       "      <td>383</td>\n",
       "      <td>61</td>\n",
       "      <td>Smiths Crinkle Cut  Chips Chicken 170g</td>\n",
       "      <td>2</td>\n",
       "      <td>2.9</td>\n",
       "    </tr>\n",
       "    <tr>\n",
       "      <th>3</th>\n",
       "      <td>2018-08-17</td>\n",
       "      <td>2</td>\n",
       "      <td>2373</td>\n",
       "      <td>974</td>\n",
       "      <td>69</td>\n",
       "      <td>Smiths Chip Thinly  S/Cream&amp;Onion 175g</td>\n",
       "      <td>5</td>\n",
       "      <td>15.0</td>\n",
       "    </tr>\n",
       "    <tr>\n",
       "      <th>4</th>\n",
       "      <td>2018-08-18</td>\n",
       "      <td>2</td>\n",
       "      <td>2426</td>\n",
       "      <td>1038</td>\n",
       "      <td>108</td>\n",
       "      <td>Kettle Tortilla ChpsHny&amp;Jlpno Chili 150g</td>\n",
       "      <td>3</td>\n",
       "      <td>13.8</td>\n",
       "    </tr>\n",
       "  </tbody>\n",
       "</table>\n",
       "</div>"
      ],
      "text/plain": [
       "        DATE  STORE_NBR  LYLTY_CARD_NBR  TXN_ID  PROD_NBR  \\\n",
       "0 2018-10-17          1            1000       1         5   \n",
       "1 2019-05-14          1            1307     348        66   \n",
       "2 2019-05-20          1            1343     383        61   \n",
       "3 2018-08-17          2            2373     974        69   \n",
       "4 2018-08-18          2            2426    1038       108   \n",
       "\n",
       "                                  PROD_NAME  PROD_QTY  TOT_SALES  \n",
       "0    Natural Chip        Compny SeaSalt175g         2        6.0  \n",
       "1                  CCs Nacho Cheese    175g         3        6.3  \n",
       "2    Smiths Crinkle Cut  Chips Chicken 170g         2        2.9  \n",
       "3    Smiths Chip Thinly  S/Cream&Onion 175g         5       15.0  \n",
       "4  Kettle Tortilla ChpsHny&Jlpno Chili 150g         3       13.8  "
      ]
     },
     "execution_count": 71,
     "metadata": {},
     "output_type": "execute_result"
    }
   ],
   "source": [
    "# view transactions data\n",
    "print(f\"Shape of transactions data: {transactions.shape}\")\n",
    "transactions.head()"
   ]
  },
  {
   "cell_type": "markdown",
   "metadata": {},
   "source": [
    "##### Check data types"
   ]
  },
  {
   "cell_type": "code",
   "execution_count": 72,
   "metadata": {},
   "outputs": [
    {
     "name": "stdout",
     "output_type": "stream",
     "text": [
      "Data Types:\n",
      "DATE              datetime64[ns]\n",
      "STORE_NBR                  int64\n",
      "LYLTY_CARD_NBR             int64\n",
      "TXN_ID                     int64\n",
      "PROD_NBR                   int64\n",
      "PROD_NAME                 object\n",
      "PROD_QTY                   int64\n",
      "TOT_SALES                float64\n",
      "dtype: object\n"
     ]
    }
   ],
   "source": [
    "# check data types of each column\n",
    "data_types = transactions.dtypes\n",
    "print(\"Data Types:\")\n",
    "print(data_types)"
   ]
  },
  {
   "cell_type": "markdown",
   "metadata": {},
   "source": [
    "Data is imported with the correct numeric format where necessary."
   ]
  },
  {
   "cell_type": "code",
   "execution_count": 73,
   "metadata": {},
   "outputs": [
    {
     "data": {
      "text/html": [
       "<div>\n",
       "<style scoped>\n",
       "    .dataframe tbody tr th:only-of-type {\n",
       "        vertical-align: middle;\n",
       "    }\n",
       "\n",
       "    .dataframe tbody tr th {\n",
       "        vertical-align: top;\n",
       "    }\n",
       "\n",
       "    .dataframe thead th {\n",
       "        text-align: right;\n",
       "    }\n",
       "</style>\n",
       "<table border=\"1\" class=\"dataframe\">\n",
       "  <thead>\n",
       "    <tr style=\"text-align: right;\">\n",
       "      <th></th>\n",
       "      <th>STORE_NBR</th>\n",
       "      <th>LYLTY_CARD_NBR</th>\n",
       "      <th>TXN_ID</th>\n",
       "      <th>PROD_NBR</th>\n",
       "      <th>PROD_QTY</th>\n",
       "      <th>TOT_SALES</th>\n",
       "    </tr>\n",
       "  </thead>\n",
       "  <tbody>\n",
       "    <tr>\n",
       "      <th>count</th>\n",
       "      <td>264836.00000</td>\n",
       "      <td>2.648360e+05</td>\n",
       "      <td>2.648360e+05</td>\n",
       "      <td>264836.000000</td>\n",
       "      <td>264836.000000</td>\n",
       "      <td>264836.000000</td>\n",
       "    </tr>\n",
       "    <tr>\n",
       "      <th>mean</th>\n",
       "      <td>135.08011</td>\n",
       "      <td>1.355495e+05</td>\n",
       "      <td>1.351583e+05</td>\n",
       "      <td>56.583157</td>\n",
       "      <td>1.907309</td>\n",
       "      <td>7.304200</td>\n",
       "    </tr>\n",
       "    <tr>\n",
       "      <th>std</th>\n",
       "      <td>76.78418</td>\n",
       "      <td>8.057998e+04</td>\n",
       "      <td>7.813303e+04</td>\n",
       "      <td>32.826638</td>\n",
       "      <td>0.643654</td>\n",
       "      <td>3.083226</td>\n",
       "    </tr>\n",
       "    <tr>\n",
       "      <th>min</th>\n",
       "      <td>1.00000</td>\n",
       "      <td>1.000000e+03</td>\n",
       "      <td>1.000000e+00</td>\n",
       "      <td>1.000000</td>\n",
       "      <td>1.000000</td>\n",
       "      <td>1.500000</td>\n",
       "    </tr>\n",
       "    <tr>\n",
       "      <th>25%</th>\n",
       "      <td>70.00000</td>\n",
       "      <td>7.002100e+04</td>\n",
       "      <td>6.760150e+04</td>\n",
       "      <td>28.000000</td>\n",
       "      <td>2.000000</td>\n",
       "      <td>5.400000</td>\n",
       "    </tr>\n",
       "    <tr>\n",
       "      <th>50%</th>\n",
       "      <td>130.00000</td>\n",
       "      <td>1.303575e+05</td>\n",
       "      <td>1.351375e+05</td>\n",
       "      <td>56.000000</td>\n",
       "      <td>2.000000</td>\n",
       "      <td>7.400000</td>\n",
       "    </tr>\n",
       "    <tr>\n",
       "      <th>75%</th>\n",
       "      <td>203.00000</td>\n",
       "      <td>2.030942e+05</td>\n",
       "      <td>2.027012e+05</td>\n",
       "      <td>85.000000</td>\n",
       "      <td>2.000000</td>\n",
       "      <td>9.200000</td>\n",
       "    </tr>\n",
       "    <tr>\n",
       "      <th>max</th>\n",
       "      <td>272.00000</td>\n",
       "      <td>2.373711e+06</td>\n",
       "      <td>2.415841e+06</td>\n",
       "      <td>114.000000</td>\n",
       "      <td>200.000000</td>\n",
       "      <td>650.000000</td>\n",
       "    </tr>\n",
       "  </tbody>\n",
       "</table>\n",
       "</div>"
      ],
      "text/plain": [
       "          STORE_NBR  LYLTY_CARD_NBR        TXN_ID       PROD_NBR  \\\n",
       "count  264836.00000    2.648360e+05  2.648360e+05  264836.000000   \n",
       "mean      135.08011    1.355495e+05  1.351583e+05      56.583157   \n",
       "std        76.78418    8.057998e+04  7.813303e+04      32.826638   \n",
       "min         1.00000    1.000000e+03  1.000000e+00       1.000000   \n",
       "25%        70.00000    7.002100e+04  6.760150e+04      28.000000   \n",
       "50%       130.00000    1.303575e+05  1.351375e+05      56.000000   \n",
       "75%       203.00000    2.030942e+05  2.027012e+05      85.000000   \n",
       "max       272.00000    2.373711e+06  2.415841e+06     114.000000   \n",
       "\n",
       "            PROD_QTY      TOT_SALES  \n",
       "count  264836.000000  264836.000000  \n",
       "mean        1.907309       7.304200  \n",
       "std         0.643654       3.083226  \n",
       "min         1.000000       1.500000  \n",
       "25%         2.000000       5.400000  \n",
       "50%         2.000000       7.400000  \n",
       "75%         2.000000       9.200000  \n",
       "max       200.000000     650.000000  "
      ]
     },
     "execution_count": 73,
     "metadata": {},
     "output_type": "execute_result"
    }
   ],
   "source": [
    "# overview of data\n",
    "transactions.describe()"
   ]
  },
  {
   "cell_type": "markdown",
   "metadata": {},
   "source": [
    "##### Check missing values"
   ]
  },
  {
   "cell_type": "code",
   "execution_count": 74,
   "metadata": {},
   "outputs": [
    {
     "name": "stdout",
     "output_type": "stream",
     "text": [
      "Missing values:\n",
      "DATE              0\n",
      "STORE_NBR         0\n",
      "LYLTY_CARD_NBR    0\n",
      "TXN_ID            0\n",
      "PROD_NBR          0\n",
      "PROD_NAME         0\n",
      "PROD_QTY          0\n",
      "TOT_SALES         0\n",
      "dtype: int64\n"
     ]
    }
   ],
   "source": [
    "# check for missing values\n",
    "missing_values = transactions.isnull().sum()\n",
    "print(\"Missing values:\")\n",
    "print(missing_values)"
   ]
  },
  {
   "cell_type": "markdown",
   "metadata": {},
   "source": [
    "##### Check duplicates"
   ]
  },
  {
   "cell_type": "code",
   "execution_count": 75,
   "metadata": {},
   "outputs": [
    {
     "name": "stdout",
     "output_type": "stream",
     "text": [
      "1 duplicates found.\n",
      "             DATE  STORE_NBR  LYLTY_CARD_NBR  TXN_ID  PROD_NBR  \\\n",
      "124845 2018-10-01        107          107024  108462        45   \n",
      "\n",
      "                                     PROD_NAME  PROD_QTY  TOT_SALES  \n",
      "124845  Smiths Thinly Cut   Roast Chicken 175g         2        6.0  \n",
      "After removing duplicates, the shape of transaction data is: (264835, 8)\n"
     ]
    }
   ],
   "source": [
    "# check for duplicates\n",
    "duplicates = transactions[transactions.duplicated()]\n",
    "print(f\"{len(duplicates)} duplicates found.\")\n",
    "print(duplicates)\n",
    "\n",
    "# remove duplicates\n",
    "filtered_transactions = transactions.drop_duplicates()\n",
    "print(f\"After removing duplicates, the shape of transaction data is: {filtered_transactions.shape}\")"
   ]
  },
  {
   "cell_type": "markdown",
   "metadata": {},
   "source": [
    "##### Handle outliers"
   ]
  },
  {
   "cell_type": "code",
   "execution_count": 76,
   "metadata": {},
   "outputs": [
    {
     "data": {
      "text/plain": [
       "<seaborn.axisgrid.PairGrid at 0x293e9ea70>"
      ]
     },
     "execution_count": 76,
     "metadata": {},
     "output_type": "execute_result"
    },
    {
     "data": {
      "image/png": "[encoded data removed]",
      "text/plain": [
       "<Figure size 500x500 with 6 Axes>"
      ]
     },
     "metadata": {},
     "output_type": "display_data"
    }
   ],
   "source": [
    "# visualise the data to view outliers\n",
    "sns.pairplot(filtered_transactions[[\"PROD_QTY\", \"TOT_SALES\"]])"
   ]
  },
  {
   "cell_type": "code",
   "execution_count": 77,
   "metadata": {},
   "outputs": [
    {
     "data": {
      "image/png": "[encoded data removed]",
      "text/plain": [
       "<Figure size 1000x400 with 2 Axes>"
      ]
     },
     "metadata": {},
     "output_type": "display_data"
    }
   ],
   "source": [
    "# visualise the data to view outliers (cont.)\n",
    "fig, axes = plt.subplots(1, 2, figsize=(10, 4))\n",
    "sns.histplot(filtered_transactions[\"PROD_QTY\"], ax=axes[0])\n",
    "sns.histplot(filtered_transactions[\"TOT_SALES\"], ax=axes[1])\n",
    "\n",
    "plt.suptitle('PROD_QTY and TOT_SALES BEFORE outlier removal')\n",
    "plt.show()"
   ]
  },
  {
   "cell_type": "markdown",
   "metadata": {},
   "source": [
    "Most of the product quantities are between 0-10 units and sales under $50. However, there are outliers that affect the quantity and sales distribution. Given that there are few outliers, we can remove them."
   ]
  },
  {
   "cell_type": "code",
   "execution_count": 78,
   "metadata": {},
   "outputs": [
    {
     "name": "stdout",
     "output_type": "stream",
     "text": [
      "            DATE  STORE_NBR  LYLTY_CARD_NBR  TXN_ID  PROD_NBR  \\\n",
      "69762 2018-08-19        226          226000  226201         4   \n",
      "69763 2019-05-20        226          226000  226210         4   \n",
      "\n",
      "                              PROD_NAME  PROD_QTY  TOT_SALES  \n",
      "69762  Dorito Corn Chp     Supreme 380g       200      650.0  \n",
      "69763  Dorito Corn Chp     Supreme 380g       200      650.0  \n",
      "After removing outliers, the shape of transaction data is: (264833, 8)\n"
     ]
    }
   ],
   "source": [
    "# view outliers data\n",
    "outlier_prod_qty = max(filtered_transactions[\"PROD_QTY\"])\n",
    "print(filtered_transactions[filtered_transactions[\"PROD_QTY\"] == outlier_prod_qty])\n",
    "\n",
    "# remove outliers\n",
    "filtered_transactions = filtered_transactions[filtered_transactions[\"PROD_QTY\"] != outlier_prod_qty]\n",
    "print(f\"After removing outliers, the shape of transaction data is: {filtered_transactions.shape}\")"
   ]
  },
  {
   "cell_type": "code",
   "execution_count": 79,
   "metadata": {},
   "outputs": [
    {
     "data": {
      "image/png": "[encoded data removed]",
      "text/plain": [
       "<Figure size 1000x400 with 2 Axes>"
      ]
     },
     "metadata": {},
     "output_type": "display_data"
    }
   ],
   "source": [
    "# visualise the data to view outliers (cont.)\n",
    "fig, axes = plt.subplots(1, 2, figsize=(10, 4))\n",
    "sns.histplot(filtered_transactions[\"PROD_QTY\"], ax=axes[0])\n",
    "sns.histplot(filtered_transactions[\"TOT_SALES\"], ax=axes[1])\n",
    "\n",
    "plt.suptitle('PROD_QTY and TOT_SALES AFTER outlier removal')\n",
    "plt.show()"
   ]
  },
  {
   "cell_type": "code",
   "execution_count": 80,
   "metadata": {},
   "outputs": [
    {
     "data": {
      "text/plain": [
       "{'PROD_QTY':              DATE  STORE_NBR  LYLTY_CARD_NBR  TXN_ID  PROD_NBR  \\\n",
       " 1      2019-05-14          1            1307     348        66   \n",
       " 3      2018-08-17          2            2373     974        69   \n",
       " 4      2018-08-18          2            2426    1038       108   \n",
       " 5      2019-05-19          4            4074    2982        57   \n",
       " 6      2019-05-16          4            4149    3333        16   \n",
       " ...           ...        ...             ...     ...       ...   \n",
       " 264754 2018-10-07        268          268396  264841         8   \n",
       " 264755 2018-10-22        268          268463  264916        87   \n",
       " 264756 2019-04-28        268          268491  264947        56   \n",
       " 264824 2019-03-13        272          272193  269906         9   \n",
       " 264832 2018-08-13        272          272358  270154        74   \n",
       " \n",
       "                                        PROD_NAME  PROD_QTY  TOT_SALES  \n",
       " 1                       CCs Nacho Cheese    175g         3        6.3  \n",
       " 3         Smiths Chip Thinly  S/Cream&Onion 175g         5       15.0  \n",
       " 4       Kettle Tortilla ChpsHny&Jlpno Chili 150g         3       13.8  \n",
       " 5       Old El Paso Salsa   Dip Tomato Mild 300g         1        5.1  \n",
       " 6       Smiths Crinkle Chips Salt & Vinegar 330g         1        5.7  \n",
       " ...                                          ...       ...        ...  \n",
       " 264754   Smiths Crinkle Cut  Chips Original 170g         1        2.9  \n",
       " 264755   Infuzions BBQ Rib   Prawn Crackers 110g         1        3.8  \n",
       " 264756                  Cheezels Cheese Box 125g         1        2.1  \n",
       " 264824   Kettle Tortilla ChpsBtroot&Ricotta 150g         1        4.6  \n",
       " 264832             Tostitos Splash Of  Lime 175g         1        4.4  \n",
       " \n",
       " [28797 rows x 8 columns],\n",
       " 'TOT_SALES':              DATE  STORE_NBR  LYLTY_CARD_NBR  TXN_ID  PROD_NBR  \\\n",
       " 3      2018-08-17          2            2373     974        69   \n",
       " 11     2018-08-20          8            8294    8221       114   \n",
       " 56     2019-05-16         74           74336   73182        84   \n",
       " 72     2018-08-19         96           96203   96025         7   \n",
       " 100    2019-05-20        130          130108  134125         2   \n",
       " ...           ...        ...             ...     ...       ...   \n",
       " 258715 2018-08-16        194          194381  194835       102   \n",
       " 258721 2018-08-15        200          200248  199694         3   \n",
       " 258726 2018-08-20        203          203253  203360        28   \n",
       " 258729 2019-05-16        208          208205  207318        37   \n",
       " 258788 2019-05-14        264          264149  262909        25   \n",
       " \n",
       "                                        PROD_NAME  PROD_QTY  TOT_SALES  \n",
       " 3         Smiths Chip Thinly  S/Cream&Onion 175g         5       15.0  \n",
       " 11         Kettle Sensations   Siracha Lime 150g         5       23.0  \n",
       " 56         GrnWves Plus Btroot & Chilli Jam 180g         5       15.5  \n",
       " 72             Smiths Crinkle      Original 330g         5       28.5  \n",
       " 100       Cobs Popd Sour Crm  &Chives Chips 110g         5       19.0  \n",
       " ...                                          ...       ...        ...  \n",
       " 258715    Kettle Mozzarella   Basil & Pesto 175g         4       21.6  \n",
       " 258721  Kettle Sensations   Camembert & Fig 150g         4       18.4  \n",
       " 258726      Thins Potato Chips  Hot & Spicy 175g         5       16.5  \n",
       " 258729  Smiths Thinly       Swt Chli&S/Cream175G         5       15.0  \n",
       " 258788            Pringles SourCream  Onion 134g         5       18.5  \n",
       " \n",
       " [578 rows x 8 columns]}"
      ]
     },
     "execution_count": 80,
     "metadata": {},
     "output_type": "execute_result"
    }
   ],
   "source": [
    "# find outliers using the IQR method\n",
    "\n",
    "# function to find records with outliers\n",
    "def find_outliers_pandas(data, column):\n",
    "\tQ1 = data[column].quantile(0.25)\n",
    "\tQ3 = data[column].quantile(0.75)\n",
    "\tIQR = Q3 - Q1\n",
    "\tlower_bound = Q1 - 1.5 * IQR\n",
    "\tupper_bound = Q3 + 1.5 * IQR\n",
    "\toutliers = data[(data[column] < lower_bound) | (data[column] > upper_bound)] ## outliers are those that lie beyond the lowerbound and upperbound\n",
    "\treturn outliers\n",
    "\n",
    "\n",
    "# find records with outliers for each specified column\n",
    "columns = [\"PROD_QTY\", \"TOT_SALES\"]\n",
    "outliers_dict = {}\n",
    "for col in columns:\n",
    "\toutliers_dict[col] = find_outliers_pandas(filtered_transactions, col)\n",
    "\n",
    "outliers_dict#[\"PROD_QTY\"]"
   ]
  },
  {
   "cell_type": "markdown",
   "metadata": {},
   "source": [
    "##### Find incorrect labels"
   ]
  },
  {
   "cell_type": "code",
   "execution_count": 95,
   "metadata": {},
   "outputs": [
    {
     "name": "stdout",
     "output_type": "stream",
     "text": [
      "The number of unique product names is: 114\n"
     ]
    }
   ],
   "source": [
    "## get number of unique product names\n",
    "unique_prodname = np.unique(filtered_transactions[\"PROD_NAME\"])\n",
    "num_unique_prodname = len(np.unique(filtered_transactions[\"PROD_NAME\"]))\n",
    "print(f\"The number of unique product names is: {num_unique_prodname}\")"
   ]
  },
  {
   "cell_type": "code",
   "execution_count": 82,
   "metadata": {},
   "outputs": [
    {
     "name": "stdout",
     "output_type": "stream",
     "text": [
      "Burger Rings 220g\n",
      "CCs Nacho Cheese    175g\n",
      "CCs Original 175g\n",
      "CCs Tasty Cheese    175g\n",
      "Cheetos Chs & Bacon Balls 190g\n",
      "Cheetos Puffs 165g\n",
      "Cheezels Cheese 330g\n",
      "Cheezels Cheese Box 125g\n",
      "Cobs Popd Sea Salt  Chips 110g\n",
      "Cobs Popd Sour Crm  &Chives Chips 110g\n",
      "Cobs Popd Swt/Chlli &Sr/Cream Chips 110g\n",
      "Dorito Corn Chp     Supreme 380g\n",
      "Doritos Cheese      Supreme 330g\n",
      "Doritos Corn Chip Mexican Jalapeno 150g\n",
      "Doritos Corn Chip Southern Chicken 150g\n",
      "Doritos Corn Chips  Cheese Supreme 170g\n",
      "Doritos Corn Chips  Nacho Cheese 170g\n",
      "Doritos Corn Chips  Original 170g\n",
      "Doritos Mexicana    170g\n",
      "Doritos Salsa       Medium 300g\n",
      "Doritos Salsa Mild  300g\n",
      "French Fries Potato Chips 175g\n",
      "Grain Waves         Sweet Chilli 210g\n",
      "Grain Waves Sour    Cream&Chives 210G\n",
      "GrnWves Plus Btroot & Chilli Jam 180g\n",
      "Infuzions BBQ Rib   Prawn Crackers 110g\n",
      "Infuzions Mango     Chutny Papadums 70g\n",
      "Infuzions SourCream&Herbs Veg Strws 110g\n",
      "Infuzions Thai SweetChili PotatoMix 110g\n",
      "Infzns Crn Crnchers Tangy Gcamole 110g\n",
      "Kettle 135g Swt Pot Sea Salt\n",
      "Kettle Chilli 175g\n",
      "Kettle Honey Soy    Chicken 175g\n",
      "Kettle Mozzarella   Basil & Pesto 175g\n",
      "Kettle Original 175g\n",
      "Kettle Sea Salt     And Vinegar 175g\n",
      "Kettle Sensations   BBQ&Maple 150g\n",
      "Kettle Sensations   Camembert & Fig 150g\n",
      "Kettle Sensations   Siracha Lime 150g\n",
      "Kettle Sweet Chilli And Sour Cream 175g\n",
      "Kettle Tortilla ChpsBtroot&Ricotta 150g\n",
      "Kettle Tortilla ChpsFeta&Garlic 150g\n",
      "Kettle Tortilla ChpsHny&Jlpno Chili 150g\n",
      "NCC Sour Cream &    Garden Chives 175g\n",
      "Natural Chip        Compny SeaSalt175g\n",
      "Natural Chip Co     Tmato Hrb&Spce 175g\n",
      "Natural ChipCo      Hony Soy Chckn175g\n",
      "Natural ChipCo Sea  Salt & Vinegr 175g\n",
      "Old El Paso Salsa   Dip Chnky Tom Ht300g\n",
      "Old El Paso Salsa   Dip Tomato Med 300g\n",
      "Old El Paso Salsa   Dip Tomato Mild 300g\n",
      "Pringles Barbeque   134g\n",
      "Pringles Chicken    Salt Crips 134g\n",
      "Pringles Mystery    Flavour 134g\n",
      "Pringles Original   Crisps 134g\n",
      "Pringles Slt Vingar 134g\n",
      "Pringles SourCream  Onion 134g\n",
      "Pringles Sthrn FriedChicken 134g\n",
      "Pringles Sweet&Spcy BBQ 134g\n",
      "RRD Chilli&         Coconut 150g\n",
      "RRD Honey Soy       Chicken 165g\n",
      "RRD Lime & Pepper   165g\n",
      "RRD Pc Sea Salt     165g\n",
      "RRD SR Slow Rst     Pork Belly 150g\n",
      "RRD Salt & Vinegar  165g\n",
      "RRD Steak &         Chimuchurri 150g\n",
      "RRD Sweet Chilli &  Sour Cream 165g\n",
      "Red Rock Deli Chikn&Garlic Aioli 150g\n",
      "Red Rock Deli SR    Salsa & Mzzrlla 150g\n",
      "Red Rock Deli Sp    Salt & Truffle 150G\n",
      "Red Rock Deli Thai  Chilli&Lime 150g\n",
      "Smith Crinkle Cut   Bolognese 150g\n",
      "Smith Crinkle Cut   Mac N Cheese 150g\n",
      "Smiths Chip Thinly  Cut Original 175g\n",
      "Smiths Chip Thinly  CutSalt/Vinegr175g\n",
      "Smiths Chip Thinly  S/Cream&Onion 175g\n",
      "Smiths Crinkle      Original 330g\n",
      "Smiths Crinkle Chips Salt & Vinegar 330g\n",
      "Smiths Crinkle Cut  Chips Barbecue 170g\n",
      "Smiths Crinkle Cut  Chips Chicken 170g\n",
      "Smiths Crinkle Cut  Chips Chs&Onion170g\n",
      "Smiths Crinkle Cut  Chips Original 170g\n",
      "Smiths Crinkle Cut  French OnionDip 150g\n",
      "Smiths Crinkle Cut  Salt & Vinegar 170g\n",
      "Smiths Crinkle Cut  Snag&Sauce 150g\n",
      "Smiths Crinkle Cut  Tomato Salsa 150g\n",
      "Smiths Crnkle Chip  Orgnl Big Bag 380g\n",
      "Smiths Thinly       Swt Chli&S/Cream175G\n",
      "Smiths Thinly Cut   Roast Chicken 175g\n",
      "Snbts Whlgrn Crisps Cheddr&Mstrd 90g\n",
      "Sunbites Whlegrn    Crisps Frch/Onin 90g\n",
      "Thins Chips         Originl saltd 175g\n",
      "Thins Chips Light&  Tangy 175g\n",
      "Thins Chips Salt &  Vinegar 175g\n",
      "Thins Chips Seasonedchicken 175g\n",
      "Thins Potato Chips  Hot & Spicy 175g\n",
      "Tostitos Lightly    Salted 175g\n",
      "Tostitos Smoked     Chipotle 175g\n",
      "Tostitos Splash Of  Lime 175g\n",
      "Twisties Cheese     270g\n",
      "Twisties Cheese     Burger 250g\n",
      "Twisties Chicken270g\n",
      "Tyrrells Crisps     Ched & Chives 165g\n",
      "Tyrrells Crisps     Lightly Salted 165g\n",
      "WW Crinkle Cut      Chicken 175g\n",
      "WW Crinkle Cut      Original 175g\n",
      "WW D/Style Chip     Sea Salt 200g\n",
      "WW Original Corn    Chips 200g\n",
      "WW Original Stacked Chips 160g\n",
      "WW Sour Cream &OnionStacked Chips 160g\n",
      "WW Supreme Cheese   Corn Chips 200g\n",
      "Woolworths Cheese   Rings 190g\n",
      "Woolworths Medium   Salsa 300g\n",
      "Woolworths Mild     Salsa 300g\n"
     ]
    }
   ],
   "source": [
    "for name in unique_prodname:\n",
    "    print(name)"
   ]
  },
  {
   "cell_type": "markdown",
   "metadata": {},
   "source": [
    "By reviewing 114 unique product names, no category item appears to be incorrectly labelled or identified. There are no two products with a similar names, meaning there are no two names for a product. To further verify this information, it is best to seek confirmation from relevant stakeholders of the project."
   ]
  },
  {
   "cell_type": "markdown",
   "metadata": {},
   "source": [
    "### Task 2: Examine and Clean Customer data\n",
    "* Do all above tasks + identify nulls\n",
    "* Merge the transaction and customer data together so it’s ready for the analysis."
   ]
  },
  {
   "cell_type": "markdown",
   "metadata": {},
   "source": [
    "##### View"
   ]
  },
  {
   "cell_type": "code",
   "execution_count": 86,
   "metadata": {},
   "outputs": [
    {
     "name": "stdout",
     "output_type": "stream",
     "text": [
      "Shape of purchases data: (72637, 3)\n"
     ]
    },
    {
     "data": {
      "text/html": [
       "<div>\n",
       "<style scoped>\n",
       "    .dataframe tbody tr th:only-of-type {\n",
       "        vertical-align: middle;\n",
       "    }\n",
       "\n",
       "    .dataframe tbody tr th {\n",
       "        vertical-align: top;\n",
       "    }\n",
       "\n",
       "    .dataframe thead th {\n",
       "        text-align: right;\n",
       "    }\n",
       "</style>\n",
       "<table border=\"1\" class=\"dataframe\">\n",
       "  <thead>\n",
       "    <tr style=\"text-align: right;\">\n",
       "      <th></th>\n",
       "      <th>LYLTY_CARD_NBR</th>\n",
       "      <th>LIFESTAGE</th>\n",
       "      <th>PREMIUM_CUSTOMER</th>\n",
       "    </tr>\n",
       "  </thead>\n",
       "  <tbody>\n",
       "    <tr>\n",
       "      <th>0</th>\n",
       "      <td>1000</td>\n",
       "      <td>YOUNG SINGLES/COUPLES</td>\n",
       "      <td>Premium</td>\n",
       "    </tr>\n",
       "    <tr>\n",
       "      <th>1</th>\n",
       "      <td>1002</td>\n",
       "      <td>YOUNG SINGLES/COUPLES</td>\n",
       "      <td>Mainstream</td>\n",
       "    </tr>\n",
       "    <tr>\n",
       "      <th>2</th>\n",
       "      <td>1003</td>\n",
       "      <td>YOUNG FAMILIES</td>\n",
       "      <td>Budget</td>\n",
       "    </tr>\n",
       "    <tr>\n",
       "      <th>3</th>\n",
       "      <td>1004</td>\n",
       "      <td>OLDER SINGLES/COUPLES</td>\n",
       "      <td>Mainstream</td>\n",
       "    </tr>\n",
       "    <tr>\n",
       "      <th>4</th>\n",
       "      <td>1005</td>\n",
       "      <td>MIDAGE SINGLES/COUPLES</td>\n",
       "      <td>Mainstream</td>\n",
       "    </tr>\n",
       "  </tbody>\n",
       "</table>\n",
       "</div>"
      ],
      "text/plain": [
       "   LYLTY_CARD_NBR               LIFESTAGE PREMIUM_CUSTOMER\n",
       "0            1000   YOUNG SINGLES/COUPLES          Premium\n",
       "1            1002   YOUNG SINGLES/COUPLES       Mainstream\n",
       "2            1003          YOUNG FAMILIES           Budget\n",
       "3            1004   OLDER SINGLES/COUPLES       Mainstream\n",
       "4            1005  MIDAGE SINGLES/COUPLES       Mainstream"
      ]
     },
     "execution_count": 86,
     "metadata": {},
     "output_type": "execute_result"
    }
   ],
   "source": [
    "# view purchases data\n",
    "print(f\"Shape of purchases data: {purchases.shape}\")\n",
    "purchases.head()"
   ]
  },
  {
   "cell_type": "markdown",
   "metadata": {},
   "source": [
    "##### Check data types"
   ]
  },
  {
   "cell_type": "code",
   "execution_count": 88,
   "metadata": {},
   "outputs": [
    {
     "name": "stdout",
     "output_type": "stream",
     "text": [
      "Data Types:\n",
      "LYLTY_CARD_NBR       int64\n",
      "LIFESTAGE           object\n",
      "PREMIUM_CUSTOMER    object\n",
      "dtype: object\n"
     ]
    }
   ],
   "source": [
    "# check data types of each column\n",
    "data_types = purchases.dtypes\n",
    "print(\"Data Types:\")\n",
    "print(data_types)"
   ]
  },
  {
   "cell_type": "markdown",
   "metadata": {},
   "source": [
    "##### Check missing values"
   ]
  },
  {
   "cell_type": "code",
   "execution_count": 90,
   "metadata": {},
   "outputs": [
    {
     "name": "stdout",
     "output_type": "stream",
     "text": [
      "Missing values:\n",
      "LYLTY_CARD_NBR      0\n",
      "LIFESTAGE           0\n",
      "PREMIUM_CUSTOMER    0\n",
      "dtype: int64\n"
     ]
    }
   ],
   "source": [
    "# check for missing values\n",
    "missing_values = purchases.isnull().sum()\n",
    "print(\"Missing values:\")\n",
    "print(missing_values)"
   ]
  },
  {
   "cell_type": "markdown",
   "metadata": {},
   "source": [
    "##### Check duplicates"
   ]
  },
  {
   "cell_type": "code",
   "execution_count": 92,
   "metadata": {},
   "outputs": [
    {
     "name": "stdout",
     "output_type": "stream",
     "text": [
      "0 duplicates found.\n"
     ]
    }
   ],
   "source": [
    "# check for duplicates\n",
    "duplicates = purchases[purchases.duplicated()]\n",
    "print(f\"{len(duplicates)} duplicates found.\")"
   ]
  },
  {
   "cell_type": "markdown",
   "metadata": {},
   "source": [
    "The data in this table is categorical; therefore, there are no outliers to process."
   ]
  },
  {
   "cell_type": "markdown",
   "metadata": {},
   "source": [
    "##### Find incorrect labels"
   ]
  },
  {
   "cell_type": "code",
   "execution_count": 97,
   "metadata": {},
   "outputs": [
    {
     "name": "stdout",
     "output_type": "stream",
     "text": [
      "The number of unique customer lifestages is: 7\n"
     ]
    }
   ],
   "source": [
    "## get number of unique customer life stages\n",
    "unique_lifestages = np.unique(purchases[\"LIFESTAGE\"])\n",
    "num_unique_lifestages = len(unique_lifestages)\n",
    "print(f\"The number of unique customer lifestages is: {num_unique_lifestages}\")"
   ]
  },
  {
   "cell_type": "code",
   "execution_count": 98,
   "metadata": {},
   "outputs": [
    {
     "name": "stdout",
     "output_type": "stream",
     "text": [
      "MIDAGE SINGLES/COUPLES\n",
      "NEW FAMILIES\n",
      "OLDER FAMILIES\n",
      "OLDER SINGLES/COUPLES\n",
      "RETIREES\n",
      "YOUNG FAMILIES\n",
      "YOUNG SINGLES/COUPLES\n"
     ]
    }
   ],
   "source": [
    "for label in unique_lifestages:\n",
    "    print(label)"
   ]
  },
  {
   "cell_type": "code",
   "execution_count": 103,
   "metadata": {},
   "outputs": [
    {
     "name": "stdout",
     "output_type": "stream",
     "text": [
      "The number of unique customer types is: 3\n"
     ]
    }
   ],
   "source": [
    "## get number of unique customer types\n",
    "unique_prem_cust = np.unique(purchases[\"PREMIUM_CUSTOMER\"])\n",
    "num_unique_prem_cust = len(unique_prem_cust)\n",
    "print(f\"The number of unique customer types is: {num_unique_prem_cust}\")"
   ]
  },
  {
   "cell_type": "code",
   "execution_count": 102,
   "metadata": {},
   "outputs": [
    {
     "name": "stdout",
     "output_type": "stream",
     "text": [
      "Budget\n",
      "Mainstream\n",
      "Premium\n"
     ]
    }
   ],
   "source": [
    "for label in unique_prem_cust:\n",
    "    print(label)"
   ]
  },
  {
   "cell_type": "markdown",
   "metadata": {},
   "source": [
    "##### Merge Purchases & Transaction data"
   ]
  },
  {
   "cell_type": "code",
   "execution_count": 106,
   "metadata": {},
   "outputs": [
    {
     "data": {
      "text/html": [
       "<div>\n",
       "<style scoped>\n",
       "    .dataframe tbody tr th:only-of-type {\n",
       "        vertical-align: middle;\n",
       "    }\n",
       "\n",
       "    .dataframe tbody tr th {\n",
       "        vertical-align: top;\n",
       "    }\n",
       "\n",
       "    .dataframe thead th {\n",
       "        text-align: right;\n",
       "    }\n",
       "</style>\n",
       "<table border=\"1\" class=\"dataframe\">\n",
       "  <thead>\n",
       "    <tr style=\"text-align: right;\">\n",
       "      <th></th>\n",
       "      <th>DATE</th>\n",
       "      <th>STORE_NBR</th>\n",
       "      <th>LYLTY_CARD_NBR</th>\n",
       "      <th>TXN_ID</th>\n",
       "      <th>PROD_NBR</th>\n",
       "      <th>PROD_NAME</th>\n",
       "      <th>PROD_QTY</th>\n",
       "      <th>TOT_SALES</th>\n",
       "      <th>LIFESTAGE</th>\n",
       "      <th>PREMIUM_CUSTOMER</th>\n",
       "    </tr>\n",
       "  </thead>\n",
       "  <tbody>\n",
       "    <tr>\n",
       "      <th>0</th>\n",
       "      <td>2018-10-17</td>\n",
       "      <td>1</td>\n",
       "      <td>1000</td>\n",
       "      <td>1</td>\n",
       "      <td>5</td>\n",
       "      <td>Natural Chip        Compny SeaSalt175g</td>\n",
       "      <td>2</td>\n",
       "      <td>6.0</td>\n",
       "      <td>YOUNG SINGLES/COUPLES</td>\n",
       "      <td>Premium</td>\n",
       "    </tr>\n",
       "    <tr>\n",
       "      <th>1</th>\n",
       "      <td>2019-05-14</td>\n",
       "      <td>1</td>\n",
       "      <td>1307</td>\n",
       "      <td>348</td>\n",
       "      <td>66</td>\n",
       "      <td>CCs Nacho Cheese    175g</td>\n",
       "      <td>3</td>\n",
       "      <td>6.3</td>\n",
       "      <td>MIDAGE SINGLES/COUPLES</td>\n",
       "      <td>Budget</td>\n",
       "    </tr>\n",
       "    <tr>\n",
       "      <th>2</th>\n",
       "      <td>2018-11-10</td>\n",
       "      <td>1</td>\n",
       "      <td>1307</td>\n",
       "      <td>346</td>\n",
       "      <td>96</td>\n",
       "      <td>WW Original Stacked Chips 160g</td>\n",
       "      <td>2</td>\n",
       "      <td>3.8</td>\n",
       "      <td>MIDAGE SINGLES/COUPLES</td>\n",
       "      <td>Budget</td>\n",
       "    </tr>\n",
       "    <tr>\n",
       "      <th>3</th>\n",
       "      <td>2019-03-09</td>\n",
       "      <td>1</td>\n",
       "      <td>1307</td>\n",
       "      <td>347</td>\n",
       "      <td>54</td>\n",
       "      <td>CCs Original 175g</td>\n",
       "      <td>1</td>\n",
       "      <td>2.1</td>\n",
       "      <td>MIDAGE SINGLES/COUPLES</td>\n",
       "      <td>Budget</td>\n",
       "    </tr>\n",
       "    <tr>\n",
       "      <th>4</th>\n",
       "      <td>2019-05-20</td>\n",
       "      <td>1</td>\n",
       "      <td>1343</td>\n",
       "      <td>383</td>\n",
       "      <td>61</td>\n",
       "      <td>Smiths Crinkle Cut  Chips Chicken 170g</td>\n",
       "      <td>2</td>\n",
       "      <td>2.9</td>\n",
       "      <td>MIDAGE SINGLES/COUPLES</td>\n",
       "      <td>Budget</td>\n",
       "    </tr>\n",
       "  </tbody>\n",
       "</table>\n",
       "</div>"
      ],
      "text/plain": [
       "        DATE  STORE_NBR  LYLTY_CARD_NBR  TXN_ID  PROD_NBR  \\\n",
       "0 2018-10-17          1            1000       1         5   \n",
       "1 2019-05-14          1            1307     348        66   \n",
       "2 2018-11-10          1            1307     346        96   \n",
       "3 2019-03-09          1            1307     347        54   \n",
       "4 2019-05-20          1            1343     383        61   \n",
       "\n",
       "                                PROD_NAME  PROD_QTY  TOT_SALES  \\\n",
       "0  Natural Chip        Compny SeaSalt175g         2        6.0   \n",
       "1                CCs Nacho Cheese    175g         3        6.3   \n",
       "2          WW Original Stacked Chips 160g         2        3.8   \n",
       "3                       CCs Original 175g         1        2.1   \n",
       "4  Smiths Crinkle Cut  Chips Chicken 170g         2        2.9   \n",
       "\n",
       "                LIFESTAGE PREMIUM_CUSTOMER  \n",
       "0   YOUNG SINGLES/COUPLES          Premium  \n",
       "1  MIDAGE SINGLES/COUPLES           Budget  \n",
       "2  MIDAGE SINGLES/COUPLES           Budget  \n",
       "3  MIDAGE SINGLES/COUPLES           Budget  \n",
       "4  MIDAGE SINGLES/COUPLES           Budget  "
      ]
     },
     "execution_count": 106,
     "metadata": {},
     "output_type": "execute_result"
    }
   ],
   "source": [
    "transaction_purchases = pd.merge(filtered_transactions, purchases, on=[\"LYLTY_CARD_NBR\"])\n",
    "transaction_purchases.head()"
   ]
  },
  {
   "cell_type": "markdown",
   "metadata": {},
   "source": [
    "### Task 3: Data analysis and customer segments\n",
    "* Define the metrics – look at total sales, drivers of sales, where the highest sales are coming from etc.\n",
    "* Explore the data - create charts and graphs + note any interesting trends and/or insights you find.\n",
    "* Deep dive into customer segments – define your recommendation from your insights, determine which segments we should be targeting, if packet sizes are relative, form overall conclusion based on your analysis. "
   ]
  },
  {
   "cell_type": "code",
   "execution_count": null,
   "metadata": {},
   "outputs": [],
   "source": [
    "## get number of unique customer life stages\n",
    "unique_lifestages = np.unique(purchases[\"LIFESTAGE\"])\n",
    "num_unique_lifestages = len(unique_lifestages)\n",
    "print(unique_lifestages)\n",
    "print(f\"The number of unique customer lifestages is: {num_unique_lifestages}\")"
   ]
  },
  {
   "cell_type": "markdown",
   "metadata": {},
   "source": []
  }
 ],
 "metadata": {
  "kernelspec": {
   "display_name": "base",
   "language": "python",
   "name": "python3"
  },
  "language_info": {
   "codemirror_mode": {
    "name": "ipython",
    "version": 3
   },
   "file_extension": ".py",
   "mimetype": "text/x-python",
   "name": "python",
   "nbconvert_exporter": "python",
   "pygments_lexer": "ipython3",
   "version": "3.1.0"
  }
 },
 "nbformat": 4,
 "nbformat_minor": 2
}
